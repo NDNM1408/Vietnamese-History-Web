{
 "cells": [
  {
   "cell_type": "code",
   "execution_count": 25,
   "metadata": {},
   "outputs": [],
   "source": [
    "import json\n",
    "def read_json(path):\n",
    "    with open(path, 'r', encoding='utf-8') as file:\n",
    "        data = json.load(file)\n",
    "    return data\n"
   ]
  },
  {
   "cell_type": "code",
   "execution_count": 26,
   "metadata": {},
   "outputs": [],
   "source": [
    "full_data = []"
   ]
  },
  {
   "cell_type": "code",
   "execution_count": 27,
   "metadata": {},
   "outputs": [],
   "source": [
    "def add_data(path, type):\n",
    "    global full_data\n",
    "    data = read_json(path=path)\n",
    "    for sample in data:\n",
    "        sample[\"type\"] = type\n",
    "        if('connect' not in sample.keys()): sample[\"connect\"] = []\n",
    "    full_data = full_data + data"
   ]
  },
  {
   "cell_type": "code",
   "execution_count": 28,
   "metadata": {},
   "outputs": [],
   "source": [
    "add_data('CharacterNKS.json', 'Character')\n",
    "add_data('PlaceNKS.json', 'Place')\n",
    "add_data('PlaceWiki.json', 'Place')\n",
    "add_data('DynastyNKS.json', 'Dynasty')\n",
    "add_data('EventNKS.json', 'Event')\n",
    "add_data('FestivalWiki.json', 'Festival')\n"
   ]
  },
  {
   "cell_type": "code",
   "execution_count": 6,
   "metadata": {},
   "outputs": [],
   "source": [
    "with open(\"full.json\", \"w\") as json_file:\n",
    "    json.dump(full_data, json_file, indent=4)"
   ]
  },
  {
   "cell_type": "code",
   "execution_count": 29,
   "metadata": {},
   "outputs": [],
   "source": [
    "def write_jsonl(records, path):\n",
    "    with open(path, \"w\", encoding=\"utf-8\") as w:\n",
    "        for r in records:\n",
    "            w.write(json.dumps(r, ensure_ascii=False) + \"\\n\")"
   ]
  },
  {
   "cell_type": "code",
   "execution_count": 30,
   "metadata": {},
   "outputs": [],
   "source": [
    "write_jsonl(full_data, 'full.jsonl')"
   ]
  },
  {
   "cell_type": "code",
   "execution_count": null,
   "metadata": {},
   "outputs": [],
   "source": []
  }
 ],
 "metadata": {
  "kernelspec": {
   "display_name": "Python 3",
   "language": "python",
   "name": "python3"
  },
  "language_info": {
   "codemirror_mode": {
    "name": "ipython",
    "version": 3
   },
   "file_extension": ".py",
   "mimetype": "text/x-python",
   "name": "python",
   "nbconvert_exporter": "python",
   "pygments_lexer": "ipython3",
   "version": "3.8.10"
  }
 },
 "nbformat": 4,
 "nbformat_minor": 2
}
